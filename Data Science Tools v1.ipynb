{
 "cells": [
  {
   "cell_type": "markdown",
   "id": "9847a29e",
   "metadata": {},
   "source": [
    "## Data Science Tools v1"
   ]
  },
  {
   "cell_type": "markdown",
   "id": "1866e58f",
   "metadata": {},
   "source": [
    "This course is designed for all learners who want to become data scientists. As a data scientist, you will be working with data. This course will provide you knowledge about various tools that you can use to analyze data and derive conclusions. \n",
    "\n",
    "You can also go through the course with or without programming knowledge."
   ]
  },
  {
   "cell_type": "markdown",
   "id": "0dc23431",
   "metadata": {},
   "source": [
    "<dl>\n",
    "<dt>Programming lengagues:</dt>\n",
    "&nbsp;\n",
    "<dd>1. Python</dd>\n",
    "<dd>2. R</dd>\n",
    "<dd>3. SQL</dd>\n",
    "<dd>4. C/C++</dd>\n",
    "<dd>5. Java</dd>\n",
    "<dd>6. JavaScript</dd>\n",
    "<dd>7. Go</dd>\n",
    "<dd>8. Scala</dd>\n",
    "<dd>9. Julia</dd>\n",
    "<dd>10. Swift</dd>\n",
    "<dd>11. MATLAB</dd>\n",
    "<dd>12. SAS</dd>\n",
    "</dl>"
   ]
  },
  {
   "cell_type": "markdown",
   "id": "8f91a4aa",
   "metadata": {},
   "source": [
    "#### Data science Libraries\n",
    "\n",
    "&nbsp;\n",
    "<dd>1. TensorFlow</dd>\n",
    "<dd>2. NumPy</dd>\n",
    "<dd>3. Pandas </dd>\n",
    "<dd>4. SciPy </dd>\n",
    "<dd>5. Keras</dd>\n",
    "<dd>6. Matplotlib </dd>\n",
    "<dd>7. SciKit-Learn</dd>\n",
    "<dd>8. Scala</dd>\n",
    "<dd>9. Scrapy</dd>\n",
    "<dd>10. BeautifulSoup</dd>\n",
    "<dd>11. LightGBM</dd>\n",
    "<dd>12. ELI5</dd>\n",
    "</dl>"
   ]
  },
  {
   "cell_type": "markdown",
   "id": "c5e8e0f6",
   "metadata": {},
   "source": [
    "#### Data science Tools\n",
    "\n",
    "&nbsp;\n",
    "<dd>1. SAS</dd>\n",
    "<dd>2. Apache Spark</dd>\n",
    "<dd>3. BigML </dd>\n",
    "<dd>4. MATLAB </dd>\n",
    "<dd>5. Python</dd>\n",
    "<dd>6. Tableau </dd>\n",
    "<dd>7. Jupyter</dd>\n",
    "<dd>8. Matplotlib</dd>\n",
    "<dd>9. Apache Hadoop</dd>\n",
    "<dd>10. KNIME</dd>\n",
    "<dd>11. WEKA</dd>\n",
    "<dd>12. TensorFlow</dd>\n",
    "</dl>"
   ]
  },
  {
   "cell_type": "markdown",
   "id": "918f2534",
   "metadata": {},
   "source": [
    "#### Multiply and add numbers\n",
    "Arithmetic operators are used with numeric values to perform common mathematical operations"
   ]
  },
  {
   "cell_type": "code",
   "execution_count": 2,
   "id": "57ddc8bd",
   "metadata": {
    "scrolled": false
   },
   "outputs": [
    {
     "name": "stdout",
     "output_type": "stream",
     "text": [
      "10\n",
      "40\n"
     ]
    }
   ],
   "source": [
    "print(8+2)\n",
    "print((8+2)*4)"
   ]
  },
  {
   "cell_type": "code",
   "execution_count": 4,
   "id": "7fbe691f",
   "metadata": {},
   "outputs": [
    {
     "name": "stdout",
     "output_type": "stream",
     "text": [
      "Enter time in minutes120\n",
      "Hours= 2\n",
      "Minutes= 0\n"
     ]
    }
   ],
   "source": [
    "min=int(input(\"Enter time in minutes\"))\n",
    "h=min//60\n",
    "m=min%60\n",
    "print(\"Hours=\",h)\n",
    "print(\"Minutes=\",m)"
   ]
  },
  {
   "cell_type": "markdown",
   "id": "126621c1",
   "metadata": {},
   "source": [
    "\n",
    "#### Unsorted List\n"
   ]
  },
  {
   "cell_type": "code",
   "execution_count": 5,
   "id": "5fb036b8",
   "metadata": {},
   "outputs": [
    {
     "name": "stdout",
     "output_type": "stream",
     "text": [
      "['a', 'c', 'd', 'w', 'r', 'z', 'n', 'k', 'l']\n"
     ]
    }
   ],
   "source": [
    "my_list = ['a','c','d','w','r','z','n','k','l']\n",
    "\n",
    "# items beginning to end\n",
    "print(my_list[:])"
   ]
  },
  {
   "cell_type": "markdown",
   "id": "aac39a0a",
   "metadata": {},
   "source": [
    "\n",
    "### Author\n",
    "\n",
    "## Roberto Gomez Campos"
   ]
  },
  {
   "cell_type": "code",
   "execution_count": null,
   "id": "acc64748",
   "metadata": {},
   "outputs": [],
   "source": []
  }
 ],
 "metadata": {
  "kernelspec": {
   "display_name": "Python 3 (ipykernel)",
   "language": "python",
   "name": "python3"
  },
  "language_info": {
   "codemirror_mode": {
    "name": "ipython",
    "version": 3
   },
   "file_extension": ".py",
   "mimetype": "text/x-python",
   "name": "python",
   "nbconvert_exporter": "python",
   "pygments_lexer": "ipython3",
   "version": "3.11.4"
  }
 },
 "nbformat": 4,
 "nbformat_minor": 5
}
